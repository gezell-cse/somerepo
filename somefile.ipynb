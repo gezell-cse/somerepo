{
 "cells": [
  {
   "cell_type": "code",
   "execution_count": null,
   "id": "5879a95f",
   "metadata": {
    "scrolled": false
   },
   "outputs": [],
   "source": [
    "#RUN ME!\n",
    "import numpy as np\n",
    "import matplotlib.pyplot as plt\n",
    "import matplotlib.patches as patches\n",
    "import math\n",
    "\n",
    "#DAISY FUNCTION\n",
    "def xmas_surprise():\n",
    "    def draw_daisy(ax, x_offset, y_offset, scale):\n",
    "        # Draw the flower head\n",
    "        ax.add_patch(plt.Circle((x_offset, y_offset), 0.4 * scale, color='yellow', ec='black'))\n",
    "        # Draw petals\n",
    "        num_petals = 12\n",
    "        for i in range(num_petals):\n",
    "            angle = i * (360 / num_petals)\n",
    "            x = x_offset + 0.6 * np.cos(np.radians(angle)) * scale\n",
    "            y = y_offset + 0.6 * np.sin(np.radians(angle)) * scale\n",
    "            ax.add_patch(patches.Ellipse((x, y), 0.8 * scale, 0.4 * scale, angle=angle, color='white', ec='black'))\n",
    "\n",
    "    #SETUP\n",
    "    fig, ax = plt.subplots(figsize=(10, 8))\n",
    "    theta = np.linspace(0, 2 * np.pi, 100)\n",
    "\n",
    "    #HEART\n",
    "    x_heart = 16 * (np.sin(theta) ** 3)\n",
    "    y_heart = 13 * np.cos(theta) - 5 * np.cos(2 * theta) - 2 * np.cos(3 * theta) - np.cos(4 * theta)\n",
    "    for i, scale in enumerate(range(1, 201, 1)):\n",
    "        plt.plot(2 * scale * x_heart, 2 * scale * y_heart, color=\"#FF5252\", zorder=2.0)\n",
    "\n",
    "    for x in range(0,360, 45):\n",
    "        draw_daisy(ax, x_offset=7500*math.cos(x*math.pi/180), y_offset=7500*math.sin(x*math.pi/180), scale=2000)\n",
    "\n",
    "    for x in range(0,360, 45):\n",
    "        draw_daisy(ax, x_offset=7000*math.cos((x+15)*math.pi/180), y_offset=7000*math.sin((x+15)*math.pi/180), scale=2000)\n",
    "\n",
    "    ax.set_xlim([-11000, 11000])\n",
    "    ax.set_ylim([-11000, 11000])\n",
    "    ax.set_xticks([])\n",
    "    ax.set_yticks([])\n",
    "    ax.set_xticklabels([])\n",
    "    ax.set_yticklabels([])\n",
    "\n",
    "    print(\"🎄 MERRY CHRISTMAS 🎄\")\n",
    "\n",
    "    plt.show()\n",
    "    \n",
    "xmas_surprise()"
   ]
  }
 ],
 "metadata": {
  "kernelspec": {
   "display_name": "Python 3 (ipykernel)",
   "language": "python",
   "name": "python3"
  },
  "language_info": {
   "codemirror_mode": {
    "name": "ipython",
    "version": 3
   },
   "file_extension": ".py",
   "mimetype": "text/x-python",
   "name": "python",
   "nbconvert_exporter": "python",
   "pygments_lexer": "ipython3",
   "version": "3.9.7"
  }
 },
 "nbformat": 4,
 "nbformat_minor": 5
}
